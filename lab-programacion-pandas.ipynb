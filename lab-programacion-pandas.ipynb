{
 "cells": [
  {
   "cell_type": "markdown",
   "metadata": {},
   "source": [
    "# Q01"
   ]
  },
  {
   "cell_type": "code",
   "execution_count": 9,
   "metadata": {},
   "outputs": [],
   "source": [
    "##\n",
    "## Imprima la cantidad de registros por cada letra \n",
    "## de la columna _c1 de la tabla tbl0\n",
    "## "
   ]
  },
  {
   "cell_type": "code",
   "execution_count": 8,
   "metadata": {},
   "outputs": [],
   "source": [
    "import pandas\n",
    "tbl0 = pandas.read_csv('tbl0.tsv', sep = '\\t')"
   ]
  },
  {
   "cell_type": "code",
   "execution_count": 2,
   "metadata": {},
   "outputs": [
    {
     "data": {
      "text/html": [
       "<div>\n",
       "<style scoped>\n",
       "    .dataframe tbody tr th:only-of-type {\n",
       "        vertical-align: middle;\n",
       "    }\n",
       "\n",
       "    .dataframe tbody tr th {\n",
       "        vertical-align: top;\n",
       "    }\n",
       "\n",
       "    .dataframe thead th {\n",
       "        text-align: right;\n",
       "    }\n",
       "</style>\n",
       "<table border=\"1\" class=\"dataframe\">\n",
       "  <thead>\n",
       "    <tr style=\"text-align: right;\">\n",
       "      <th></th>\n",
       "      <th>_c0</th>\n",
       "      <th>_c1</th>\n",
       "      <th>_c2</th>\n",
       "      <th>_c3</th>\n",
       "    </tr>\n",
       "  </thead>\n",
       "  <tbody>\n",
       "    <tr>\n",
       "      <th>0</th>\n",
       "      <td>0</td>\n",
       "      <td>E</td>\n",
       "      <td>1</td>\n",
       "      <td>1999-02-28</td>\n",
       "    </tr>\n",
       "    <tr>\n",
       "      <th>1</th>\n",
       "      <td>1</td>\n",
       "      <td>A</td>\n",
       "      <td>2</td>\n",
       "      <td>1999-10-28</td>\n",
       "    </tr>\n",
       "    <tr>\n",
       "      <th>2</th>\n",
       "      <td>2</td>\n",
       "      <td>B</td>\n",
       "      <td>5</td>\n",
       "      <td>1998-05-02</td>\n",
       "    </tr>\n",
       "    <tr>\n",
       "      <th>3</th>\n",
       "      <td>3</td>\n",
       "      <td>A</td>\n",
       "      <td>3</td>\n",
       "      <td>1999-08-28</td>\n",
       "    </tr>\n",
       "    <tr>\n",
       "      <th>4</th>\n",
       "      <td>4</td>\n",
       "      <td>C</td>\n",
       "      <td>6</td>\n",
       "      <td>1999-12-01</td>\n",
       "    </tr>\n",
       "  </tbody>\n",
       "</table>\n",
       "</div>"
      ],
      "text/plain": [
       "   _c0 _c1  _c2         _c3\n",
       "0    0   E    1  1999-02-28\n",
       "1    1   A    2  1999-10-28\n",
       "2    2   B    5  1998-05-02\n",
       "3    3   A    3  1999-08-28\n",
       "4    4   C    6  1999-12-01"
      ]
     },
     "execution_count": 2,
     "metadata": {},
     "output_type": "execute_result"
    }
   ],
   "source": [
    "tbl0.head()"
   ]
  },
  {
   "cell_type": "code",
   "execution_count": 7,
   "metadata": {},
   "outputs": [
    {
     "name": "stdout",
     "output_type": "stream",
     "text": [
      "_c1\n",
      "A     8\n",
      "B     7\n",
      "C     5\n",
      "D     6\n",
      "E    14\n",
      "Name: _c0, dtype: int64\n"
     ]
    }
   ],
   "source": [
    "q01 = tbl0.groupby('_c1').count()['_c0']\n",
    "print(q01)"
   ]
  },
  {
   "cell_type": "code",
   "execution_count": 10,
   "metadata": {},
   "outputs": [
    {
     "name": "stdout",
     "output_type": "stream",
     "text": [
      "_c1\n",
      "A     8\n",
      "B     7\n",
      "C     5\n",
      "D     6\n",
      "E    14\n",
      "Name: _c0, dtype: int64\n"
     ]
    }
   ],
   "source": [
    "%run q01.py"
   ]
  },
  {
   "cell_type": "markdown",
   "metadata": {},
   "source": [
    "# Q02"
   ]
  },
  {
   "cell_type": "code",
   "execution_count": 11,
   "metadata": {},
   "outputs": [],
   "source": [
    "##\n",
    "## Imprima el promedio de la _c2 por cada letra de la _c1 \n",
    "## de la tabla tbl0\n",
    "## "
   ]
  },
  {
   "cell_type": "code",
   "execution_count": 12,
   "metadata": {},
   "outputs": [],
   "source": [
    "import pandas\n",
    "tbl0 = pandas.read_csv('tbl0.tsv', sep = '\\t')"
   ]
  },
  {
   "cell_type": "code",
   "execution_count": 16,
   "metadata": {},
   "outputs": [],
   "source": [
    "q02 = tbl0.groupby('_c1').mean()['_c2']"
   ]
  },
  {
   "cell_type": "code",
   "execution_count": 17,
   "metadata": {},
   "outputs": [
    {
     "name": "stdout",
     "output_type": "stream",
     "text": [
      "_c1\n",
      "A    4.625000\n",
      "B    5.142857\n",
      "C    5.400000\n",
      "D    3.833333\n",
      "E    4.785714\n",
      "Name: _c2, dtype: float64\n"
     ]
    }
   ],
   "source": [
    "print(q02)"
   ]
  },
  {
   "cell_type": "code",
   "execution_count": 19,
   "metadata": {},
   "outputs": [
    {
     "name": "stdout",
     "output_type": "stream",
     "text": [
      "_c1\n",
      "A    4.625000\n",
      "B    5.142857\n",
      "C    5.400000\n",
      "D    3.833333\n",
      "E    4.785714\n",
      "Name: _c2, dtype: float64\n"
     ]
    }
   ],
   "source": [
    "%run q02.py"
   ]
  },
  {
   "cell_type": "markdown",
   "metadata": {},
   "source": [
    "# Q03"
   ]
  },
  {
   "cell_type": "code",
   "execution_count": 20,
   "metadata": {},
   "outputs": [],
   "source": [
    "##\n",
    "## Imprima el maximo de la _c2 por cada letra de la _c1 \n",
    "## de la tabla tbl0\n",
    "## "
   ]
  },
  {
   "cell_type": "code",
   "execution_count": 24,
   "metadata": {},
   "outputs": [],
   "source": [
    "import pandas\n",
    "tbl0 = pandas.read_csv('tbl0.tsv', sep = '\\t')"
   ]
  },
  {
   "cell_type": "code",
   "execution_count": 25,
   "metadata": {},
   "outputs": [
    {
     "name": "stdout",
     "output_type": "stream",
     "text": [
      "_c1\n",
      "A    9\n",
      "B    9\n",
      "C    9\n",
      "D    7\n",
      "E    9\n",
      "Name: _c2, dtype: int64\n"
     ]
    }
   ],
   "source": [
    "q03 = tbl0.groupby('_c1').max()['_c2']\n",
    "print(q03)"
   ]
  },
  {
   "cell_type": "code",
   "execution_count": 26,
   "metadata": {},
   "outputs": [
    {
     "name": "stdout",
     "output_type": "stream",
     "text": [
      "_c1\n",
      "A    9\n",
      "B    9\n",
      "C    9\n",
      "D    7\n",
      "E    9\n",
      "Name: _c2, dtype: int64\n"
     ]
    }
   ],
   "source": [
    "%run q03.py"
   ]
  },
  {
   "cell_type": "markdown",
   "metadata": {},
   "source": [
    "# Q04"
   ]
  },
  {
   "cell_type": "code",
   "execution_count": 27,
   "metadata": {},
   "outputs": [],
   "source": [
    "##\n",
    "## Imprima los valores unicos e la columna _c4 de \n",
    "## de la tabla tbl1 en mayusculas\n",
    "## "
   ]
  },
  {
   "cell_type": "code",
   "execution_count": 68,
   "metadata": {},
   "outputs": [],
   "source": [
    "import pandas\n",
    "tbl1 = pandas.read_csv('tbl1.tsv', sep = '\\t')"
   ]
  },
  {
   "cell_type": "code",
   "execution_count": 73,
   "metadata": {},
   "outputs": [],
   "source": [
    "tbl11 = tbl1.copy()"
   ]
  },
  {
   "cell_type": "code",
   "execution_count": 74,
   "metadata": {},
   "outputs": [
    {
     "data": {
      "text/html": [
       "<div>\n",
       "<style scoped>\n",
       "    .dataframe tbody tr th:only-of-type {\n",
       "        vertical-align: middle;\n",
       "    }\n",
       "\n",
       "    .dataframe tbody tr th {\n",
       "        vertical-align: top;\n",
       "    }\n",
       "\n",
       "    .dataframe thead th {\n",
       "        text-align: right;\n",
       "    }\n",
       "</style>\n",
       "<table border=\"1\" class=\"dataframe\">\n",
       "  <thead>\n",
       "    <tr style=\"text-align: right;\">\n",
       "      <th></th>\n",
       "      <th>_c0</th>\n",
       "      <th>_c4</th>\n",
       "    </tr>\n",
       "  </thead>\n",
       "  <tbody>\n",
       "    <tr>\n",
       "      <th>0</th>\n",
       "      <td>0</td>\n",
       "      <td>b</td>\n",
       "    </tr>\n",
       "    <tr>\n",
       "      <th>1</th>\n",
       "      <td>0</td>\n",
       "      <td>g</td>\n",
       "    </tr>\n",
       "    <tr>\n",
       "      <th>2</th>\n",
       "      <td>0</td>\n",
       "      <td>f</td>\n",
       "    </tr>\n",
       "    <tr>\n",
       "      <th>3</th>\n",
       "      <td>1</td>\n",
       "      <td>a</td>\n",
       "    </tr>\n",
       "    <tr>\n",
       "      <th>4</th>\n",
       "      <td>1</td>\n",
       "      <td>f</td>\n",
       "    </tr>\n",
       "  </tbody>\n",
       "</table>\n",
       "</div>"
      ],
      "text/plain": [
       "   _c0 _c4\n",
       "0    0   b\n",
       "1    0   g\n",
       "2    0   f\n",
       "3    1   a\n",
       "4    1   f"
      ]
     },
     "execution_count": 74,
     "metadata": {},
     "output_type": "execute_result"
    }
   ],
   "source": [
    "tbl11.head()"
   ]
  },
  {
   "cell_type": "code",
   "execution_count": 75,
   "metadata": {},
   "outputs": [],
   "source": [
    "unique = tbl11['_c4'].unique()"
   ]
  },
  {
   "cell_type": "code",
   "execution_count": 76,
   "metadata": {},
   "outputs": [],
   "source": [
    "unique1 = sorted(unique)"
   ]
  },
  {
   "cell_type": "code",
   "execution_count": 80,
   "metadata": {},
   "outputs": [],
   "source": [
    "unique2 = [n.upper() for n in unique1]"
   ]
  },
  {
   "cell_type": "code",
   "execution_count": 81,
   "metadata": {},
   "outputs": [
    {
     "name": "stdout",
     "output_type": "stream",
     "text": [
      "['A', 'B', 'C', 'D', 'E', 'F', 'G']\n"
     ]
    }
   ],
   "source": [
    "print(unique2)"
   ]
  },
  {
   "cell_type": "code",
   "execution_count": 82,
   "metadata": {},
   "outputs": [
    {
     "name": "stdout",
     "output_type": "stream",
     "text": [
      "['A', 'B', 'C', 'D', 'E', 'F', 'G']\n"
     ]
    }
   ],
   "source": [
    "%run q04.py"
   ]
  },
  {
   "cell_type": "markdown",
   "metadata": {},
   "source": [
    "# Q05"
   ]
  },
  {
   "cell_type": "code",
   "execution_count": null,
   "metadata": {},
   "outputs": [],
   "source": [
    "## Imprima la suma de la _c2 por cada letra de la _c1 \n",
    "## de la tabla tbl0"
   ]
  },
  {
   "cell_type": "code",
   "execution_count": 83,
   "metadata": {},
   "outputs": [
    {
     "name": "stdout",
     "output_type": "stream",
     "text": [
      "_c1\n",
      "A    37\n",
      "B    36\n",
      "C    27\n",
      "D    23\n",
      "E    67\n",
      "Name: _c2, dtype: int64\n"
     ]
    }
   ],
   "source": [
    "import pandas\n",
    "tbl0 = pandas.read_csv('tbl0.tsv', sep = '\\t')\n",
    "q05 = tbl0.groupby('_c1').sum()['_c2']\n",
    "print(q05)"
   ]
  },
  {
   "cell_type": "code",
   "execution_count": 84,
   "metadata": {},
   "outputs": [
    {
     "name": "stdout",
     "output_type": "stream",
     "text": [
      "_c1\n",
      "A    37\n",
      "B    36\n",
      "C    27\n",
      "D    23\n",
      "E    67\n",
      "Name: _c2, dtype: int64\n"
     ]
    }
   ],
   "source": [
    "%run q05.py"
   ]
  },
  {
   "cell_type": "markdown",
   "metadata": {},
   "source": [
    "# Q06"
   ]
  },
  {
   "cell_type": "code",
   "execution_count": null,
   "metadata": {},
   "outputs": [],
   "source": [
    "##\n",
    "## Imprima la suma de la _c2 por cada letra de la _c1 \n",
    "## de la tabla tbl0\n",
    "## "
   ]
  },
  {
   "cell_type": "code",
   "execution_count": 85,
   "metadata": {},
   "outputs": [
    {
     "name": "stdout",
     "output_type": "stream",
     "text": [
      "_c1\n",
      "A    37\n",
      "B    36\n",
      "C    27\n",
      "D    23\n",
      "E    67\n",
      "Name: _c2, dtype: int64\n"
     ]
    }
   ],
   "source": [
    "import pandas\n",
    "tbl0 = pandas.read_csv('tbl0.tsv', sep = '\\t')\n",
    "q06 = tbl0.groupby('_c1').sum()['_c2']\n",
    "print(q06)"
   ]
  },
  {
   "cell_type": "code",
   "execution_count": 87,
   "metadata": {},
   "outputs": [
    {
     "name": "stdout",
     "output_type": "stream",
     "text": [
      "_c1\n",
      "A    37\n",
      "B    36\n",
      "C    27\n",
      "D    23\n",
      "E    67\n",
      "Name: _c2, dtype: int64\n"
     ]
    }
   ],
   "source": [
    "%run q06.py"
   ]
  },
  {
   "cell_type": "markdown",
   "metadata": {},
   "source": [
    "# Q07"
   ]
  },
  {
   "cell_type": "code",
   "execution_count": null,
   "metadata": {},
   "outputs": [],
   "source": [
    "##\n",
    "## Agregue una columna  con la suma de _c0 y _c2 a la tabla tbl0.tsv \n",
    "## "
   ]
  },
  {
   "cell_type": "code",
   "execution_count": 88,
   "metadata": {},
   "outputs": [],
   "source": [
    "import pandas\n",
    "tbl0 = pandas.read_csv('tbl0.tsv', sep = '\\t')"
   ]
  },
  {
   "cell_type": "code",
   "execution_count": 89,
   "metadata": {},
   "outputs": [],
   "source": [
    "tbl0aux = tbl0.copy()"
   ]
  },
  {
   "cell_type": "code",
   "execution_count": 91,
   "metadata": {},
   "outputs": [],
   "source": [
    "tbl0aux['suma'] = tbl0aux['_c0'] + tbl0aux['_c2']"
   ]
  },
  {
   "cell_type": "code",
   "execution_count": 92,
   "metadata": {},
   "outputs": [
    {
     "name": "stdout",
     "output_type": "stream",
     "text": [
      "    _c0 _c1  _c2         _c3  suma\n",
      "0     0   E    1  1999-02-28     1\n",
      "1     1   A    2  1999-10-28     3\n",
      "2     2   B    5  1998-05-02     7\n",
      "3     3   A    3  1999-08-28     6\n",
      "4     4   C    6  1999-12-01    10\n",
      "5     5   A    7  1998-07-28    12\n",
      "6     6   A    9  1997-02-28    15\n",
      "7     7   B    1  1999-05-10     8\n",
      "8     8   E    2  1997-04-12    10\n",
      "9     9   B    3  1999-11-23    12\n",
      "10   10   C    7  1998-01-17    17\n",
      "11   11   C    5  1998-12-28    16\n",
      "12   12   D    3  1999-10-15    15\n",
      "13   13   E    8  1998-11-01    21\n",
      "14   14   B    9  1999-08-12    23\n",
      "15   15   D    1  1997-12-01    16\n",
      "16   16   E    3  1997-07-28    19\n",
      "17   17   D    5  1998-08-12    22\n",
      "18   18   E    8  1999-08-24    26\n",
      "19   19   E    9  1998-01-23    28\n",
      "20   20   E    7  1999-06-22    27\n",
      "21   21   E    3  1999-04-24    24\n",
      "22   22   D    5  1999-06-25    27\n",
      "23   23   A    1  1999-08-25    24\n",
      "24   24   E    4  1997-07-26    28\n",
      "25   25   E    6  1997-09-24    31\n",
      "26   26   A    8  1997-09-28    34\n",
      "27   27   E    5  1999-06-22    32\n",
      "28   28   A    6  1999-07-29    34\n",
      "29   29   C    0  1999-08-22    29\n",
      "30   30   A    1  1998-04-26    31\n",
      "31   31   D    2  1998-02-24    33\n",
      "32   32   E    5  1999-03-24    37\n",
      "33   33   B    4  1998-03-23    37\n",
      "34   34   B    6  1999-04-21    40\n",
      "35   35   D    7  1999-02-29    42\n",
      "36   36   B    8  1997-05-21    44\n",
      "37   37   C    9  1997-07-22    46\n",
      "38   38   E    1  1999-09-28    39\n",
      "39   39   E    5  1998-01-26    44\n"
     ]
    }
   ],
   "source": [
    "print(tbl0aux)"
   ]
  },
  {
   "cell_type": "code",
   "execution_count": 93,
   "metadata": {},
   "outputs": [
    {
     "name": "stdout",
     "output_type": "stream",
     "text": [
      "    _c0 _c1  _c2         _c3  suma\n",
      "0     0   E    1  1999-02-28     1\n",
      "1     1   A    2  1999-10-28     3\n",
      "2     2   B    5  1998-05-02     7\n",
      "3     3   A    3  1999-08-28     6\n",
      "4     4   C    6  1999-12-01    10\n",
      "5     5   A    7  1998-07-28    12\n",
      "6     6   A    9  1997-02-28    15\n",
      "7     7   B    1  1999-05-10     8\n",
      "8     8   E    2  1997-04-12    10\n",
      "9     9   B    3  1999-11-23    12\n",
      "10   10   C    7  1998-01-17    17\n",
      "11   11   C    5  1998-12-28    16\n",
      "12   12   D    3  1999-10-15    15\n",
      "13   13   E    8  1998-11-01    21\n",
      "14   14   B    9  1999-08-12    23\n",
      "15   15   D    1  1997-12-01    16\n",
      "16   16   E    3  1997-07-28    19\n",
      "17   17   D    5  1998-08-12    22\n",
      "18   18   E    8  1999-08-24    26\n",
      "19   19   E    9  1998-01-23    28\n",
      "20   20   E    7  1999-06-22    27\n",
      "21   21   E    3  1999-04-24    24\n",
      "22   22   D    5  1999-06-25    27\n",
      "23   23   A    1  1999-08-25    24\n",
      "24   24   E    4  1997-07-26    28\n",
      "25   25   E    6  1997-09-24    31\n",
      "26   26   A    8  1997-09-28    34\n",
      "27   27   E    5  1999-06-22    32\n",
      "28   28   A    6  1999-07-29    34\n",
      "29   29   C    0  1999-08-22    29\n",
      "30   30   A    1  1998-04-26    31\n",
      "31   31   D    2  1998-02-24    33\n",
      "32   32   E    5  1999-03-24    37\n",
      "33   33   B    4  1998-03-23    37\n",
      "34   34   B    6  1999-04-21    40\n",
      "35   35   D    7  1999-02-29    42\n",
      "36   36   B    8  1997-05-21    44\n",
      "37   37   C    9  1997-07-22    46\n",
      "38   38   E    1  1999-09-28    39\n",
      "39   39   E    5  1998-01-26    44\n"
     ]
    }
   ],
   "source": [
    "%run q07.py"
   ]
  },
  {
   "cell_type": "markdown",
   "metadata": {},
   "source": [
    "# Q08"
   ]
  },
  {
   "cell_type": "code",
   "execution_count": 18,
   "metadata": {},
   "outputs": [],
   "source": [
    "##\n",
    "## Agregue el año como una columna a la tabla tbl0.tsv \n",
    "## "
   ]
  },
  {
   "cell_type": "code",
   "execution_count": 1,
   "metadata": {},
   "outputs": [],
   "source": [
    "import pandas\n",
    "tbl0 = pandas.read_csv('tbl0.tsv', sep = '\\t')\n",
    "tbl0aux = tbl0.copy()"
   ]
  },
  {
   "cell_type": "code",
   "execution_count": 53,
   "metadata": {},
   "outputs": [
    {
     "data": {
      "text/html": [
       "<div>\n",
       "<style scoped>\n",
       "    .dataframe tbody tr th:only-of-type {\n",
       "        vertical-align: middle;\n",
       "    }\n",
       "\n",
       "    .dataframe tbody tr th {\n",
       "        vertical-align: top;\n",
       "    }\n",
       "\n",
       "    .dataframe thead th {\n",
       "        text-align: right;\n",
       "    }\n",
       "</style>\n",
       "<table border=\"1\" class=\"dataframe\">\n",
       "  <thead>\n",
       "    <tr style=\"text-align: right;\">\n",
       "      <th></th>\n",
       "      <th>_c0</th>\n",
       "      <th>_c1</th>\n",
       "      <th>_c2</th>\n",
       "      <th>_c3</th>\n",
       "    </tr>\n",
       "  </thead>\n",
       "  <tbody>\n",
       "    <tr>\n",
       "      <th>0</th>\n",
       "      <td>0</td>\n",
       "      <td>E</td>\n",
       "      <td>1</td>\n",
       "      <td>1999-02-28</td>\n",
       "    </tr>\n",
       "    <tr>\n",
       "      <th>1</th>\n",
       "      <td>1</td>\n",
       "      <td>A</td>\n",
       "      <td>2</td>\n",
       "      <td>1999-10-28</td>\n",
       "    </tr>\n",
       "    <tr>\n",
       "      <th>2</th>\n",
       "      <td>2</td>\n",
       "      <td>B</td>\n",
       "      <td>5</td>\n",
       "      <td>1998-05-02</td>\n",
       "    </tr>\n",
       "    <tr>\n",
       "      <th>3</th>\n",
       "      <td>3</td>\n",
       "      <td>A</td>\n",
       "      <td>3</td>\n",
       "      <td>1999-08-28</td>\n",
       "    </tr>\n",
       "    <tr>\n",
       "      <th>4</th>\n",
       "      <td>4</td>\n",
       "      <td>C</td>\n",
       "      <td>6</td>\n",
       "      <td>1999-12-01</td>\n",
       "    </tr>\n",
       "  </tbody>\n",
       "</table>\n",
       "</div>"
      ],
      "text/plain": [
       "   _c0 _c1  _c2         _c3\n",
       "0    0   E    1  1999-02-28\n",
       "1    1   A    2  1999-10-28\n",
       "2    2   B    5  1998-05-02\n",
       "3    3   A    3  1999-08-28\n",
       "4    4   C    6  1999-12-01"
      ]
     },
     "execution_count": 53,
     "metadata": {},
     "output_type": "execute_result"
    }
   ],
   "source": [
    "tbl0aux.head()"
   ]
  },
  {
   "cell_type": "code",
   "execution_count": 54,
   "metadata": {},
   "outputs": [],
   "source": [
    "from datetime import datetime\n",
    "tbl0aux[\"_c3\"] = pandas.to_datetime(tbl0aux[\"_c3\"], errors='ignore')"
   ]
  },
  {
   "cell_type": "code",
   "execution_count": 55,
   "metadata": {},
   "outputs": [
    {
     "data": {
      "text/html": [
       "<div>\n",
       "<style scoped>\n",
       "    .dataframe tbody tr th:only-of-type {\n",
       "        vertical-align: middle;\n",
       "    }\n",
       "\n",
       "    .dataframe tbody tr th {\n",
       "        vertical-align: top;\n",
       "    }\n",
       "\n",
       "    .dataframe thead th {\n",
       "        text-align: right;\n",
       "    }\n",
       "</style>\n",
       "<table border=\"1\" class=\"dataframe\">\n",
       "  <thead>\n",
       "    <tr style=\"text-align: right;\">\n",
       "      <th></th>\n",
       "      <th>_c0</th>\n",
       "      <th>_c1</th>\n",
       "      <th>_c2</th>\n",
       "      <th>_c3</th>\n",
       "    </tr>\n",
       "  </thead>\n",
       "  <tbody>\n",
       "    <tr>\n",
       "      <th>0</th>\n",
       "      <td>0</td>\n",
       "      <td>E</td>\n",
       "      <td>1</td>\n",
       "      <td>1999-02-28</td>\n",
       "    </tr>\n",
       "    <tr>\n",
       "      <th>1</th>\n",
       "      <td>1</td>\n",
       "      <td>A</td>\n",
       "      <td>2</td>\n",
       "      <td>1999-10-28</td>\n",
       "    </tr>\n",
       "  </tbody>\n",
       "</table>\n",
       "</div>"
      ],
      "text/plain": [
       "   _c0 _c1  _c2        _c3\n",
       "0    0   E    1 1999-02-28\n",
       "1    1   A    2 1999-10-28"
      ]
     },
     "execution_count": 55,
     "metadata": {},
     "output_type": "execute_result"
    }
   ],
   "source": [
    "tbl0aux.head(2)"
   ]
  },
  {
   "cell_type": "code",
   "execution_count": 93,
   "metadata": {},
   "outputs": [
    {
     "data": {
      "text/plain": [
       "<pandas.core.indexes.accessors.DatetimeProperties object at 0x7f60f3fb2b70>"
      ]
     },
     "execution_count": 93,
     "metadata": {},
     "output_type": "execute_result"
    }
   ],
   "source": [
    "#En este punto se cambia el tipo de dato series del dataframe para acceder a sus propiedades de fecha (dt = datetime like)\n",
    "#permitiendo así que se obtengan datos como el año y el mes.\n",
    "tbl0aux['_c3'].dt"
   ]
  },
  {
   "cell_type": "code",
   "execution_count": 57,
   "metadata": {},
   "outputs": [
    {
     "data": {
      "text/plain": [
       "0     1999\n",
       "1     1999\n",
       "2     1998\n",
       "3     1999\n",
       "4     1999\n",
       "5     1998\n",
       "6     1997\n",
       "7     1999\n",
       "8     1997\n",
       "9     1999\n",
       "10    1998\n",
       "11    1998\n",
       "12    1999\n",
       "13    1998\n",
       "14    1999\n",
       "15    1997\n",
       "16    1997\n",
       "17    1998\n",
       "18    1999\n",
       "19    1998\n",
       "20    1999\n",
       "21    1999\n",
       "22    1999\n",
       "23    1999\n",
       "24    1997\n",
       "25    1997\n",
       "26    1997\n",
       "27    1999\n",
       "28    1999\n",
       "29    1999\n",
       "30    1998\n",
       "31    1998\n",
       "32    1999\n",
       "33    1998\n",
       "34    1999\n",
       "35    1999\n",
       "36    1997\n",
       "37    1997\n",
       "38    1999\n",
       "39    1998\n",
       "Name: _c3, dtype: int64"
      ]
     },
     "execution_count": 57,
     "metadata": {},
     "output_type": "execute_result"
    }
   ],
   "source": [
    "tbl0aux['_c3'].dt.year"
   ]
  },
  {
   "cell_type": "code",
   "execution_count": 58,
   "metadata": {},
   "outputs": [],
   "source": [
    "tbl0aux['ano'] = tbl0aux['_c3'].dt.year"
   ]
  },
  {
   "cell_type": "code",
   "execution_count": 59,
   "metadata": {},
   "outputs": [
    {
     "name": "stdout",
     "output_type": "stream",
     "text": [
      "    _c0 _c1  _c2        _c3   ano\n",
      "0     0   E    1 1999-02-28  1999\n",
      "1     1   A    2 1999-10-28  1999\n",
      "2     2   B    5 1998-05-02  1998\n",
      "3     3   A    3 1999-08-28  1999\n",
      "4     4   C    6 1999-12-01  1999\n",
      "5     5   A    7 1998-07-28  1998\n",
      "6     6   A    9 1997-02-28  1997\n",
      "7     7   B    1 1999-05-10  1999\n",
      "8     8   E    2 1997-04-12  1997\n",
      "9     9   B    3 1999-11-23  1999\n",
      "10   10   C    7 1998-01-17  1998\n",
      "11   11   C    5 1998-12-28  1998\n",
      "12   12   D    3 1999-10-15  1999\n",
      "13   13   E    8 1998-11-01  1998\n",
      "14   14   B    9 1999-08-12  1999\n",
      "15   15   D    1 1997-12-01  1997\n",
      "16   16   E    3 1997-07-28  1997\n",
      "17   17   D    5 1998-08-12  1998\n",
      "18   18   E    8 1999-08-24  1999\n",
      "19   19   E    9 1998-01-23  1998\n",
      "20   20   E    7 1999-06-22  1999\n",
      "21   21   E    3 1999-04-24  1999\n",
      "22   22   D    5 1999-06-25  1999\n",
      "23   23   A    1 1999-08-25  1999\n",
      "24   24   E    4 1997-07-26  1997\n",
      "25   25   E    6 1997-09-24  1997\n",
      "26   26   A    8 1997-09-28  1997\n",
      "27   27   E    5 1999-06-22  1999\n",
      "28   28   A    6 1999-07-29  1999\n",
      "29   29   C    0 1999-08-22  1999\n",
      "30   30   A    1 1998-04-26  1998\n",
      "31   31   D    2 1998-02-24  1998\n",
      "32   32   E    5 1999-03-24  1999\n",
      "33   33   B    4 1998-03-23  1998\n",
      "34   34   B    6 1999-04-21  1999\n",
      "35   35   D    7 1999-02-28  1999\n",
      "36   36   B    8 1997-05-21  1997\n",
      "37   37   C    9 1997-07-22  1997\n",
      "38   38   E    1 1999-09-28  1999\n",
      "39   39   E    5 1998-01-26  1998\n"
     ]
    }
   ],
   "source": [
    "print(tbl0aux)"
   ]
  },
  {
   "cell_type": "code",
   "execution_count": 60,
   "metadata": {},
   "outputs": [
    {
     "name": "stdout",
     "output_type": "stream",
     "text": [
      "    _c0 _c1  _c2        _c3   ano\n",
      "0     0   E    1 1999-02-28  1999\n",
      "1     1   A    2 1999-10-28  1999\n",
      "2     2   B    5 1998-05-02  1998\n",
      "3     3   A    3 1999-08-28  1999\n",
      "4     4   C    6 1999-12-01  1999\n",
      "5     5   A    7 1998-07-28  1998\n",
      "6     6   A    9 1997-02-28  1997\n",
      "7     7   B    1 1999-05-10  1999\n",
      "8     8   E    2 1997-04-12  1997\n",
      "9     9   B    3 1999-11-23  1999\n",
      "10   10   C    7 1998-01-17  1998\n",
      "11   11   C    5 1998-12-28  1998\n",
      "12   12   D    3 1999-10-15  1999\n",
      "13   13   E    8 1998-11-01  1998\n",
      "14   14   B    9 1999-08-12  1999\n",
      "15   15   D    1 1997-12-01  1997\n",
      "16   16   E    3 1997-07-28  1997\n",
      "17   17   D    5 1998-08-12  1998\n",
      "18   18   E    8 1999-08-24  1999\n",
      "19   19   E    9 1998-01-23  1998\n",
      "20   20   E    7 1999-06-22  1999\n",
      "21   21   E    3 1999-04-24  1999\n",
      "22   22   D    5 1999-06-25  1999\n",
      "23   23   A    1 1999-08-25  1999\n",
      "24   24   E    4 1997-07-26  1997\n",
      "25   25   E    6 1997-09-24  1997\n",
      "26   26   A    8 1997-09-28  1997\n",
      "27   27   E    5 1999-06-22  1999\n",
      "28   28   A    6 1999-07-29  1999\n",
      "29   29   C    0 1999-08-22  1999\n",
      "30   30   A    1 1998-04-26  1998\n",
      "31   31   D    2 1998-02-24  1998\n",
      "32   32   E    5 1999-03-24  1999\n",
      "33   33   B    4 1998-03-23  1998\n",
      "34   34   B    6 1999-04-21  1999\n",
      "35   35   D    7 1999-02-28  1999\n",
      "36   36   B    8 1997-05-21  1997\n",
      "37   37   C    9 1997-07-22  1997\n",
      "38   38   E    1 1999-09-28  1999\n",
      "39   39   E    5 1998-01-26  1998\n"
     ]
    }
   ],
   "source": [
    "%run q08.py"
   ]
  },
  {
   "cell_type": "code",
   "execution_count": 3,
   "metadata": {},
   "outputs": [
    {
     "data": {
      "text/html": [
       "<div>\n",
       "<style scoped>\n",
       "    .dataframe tbody tr th:only-of-type {\n",
       "        vertical-align: middle;\n",
       "    }\n",
       "\n",
       "    .dataframe tbody tr th {\n",
       "        vertical-align: top;\n",
       "    }\n",
       "\n",
       "    .dataframe thead th {\n",
       "        text-align: right;\n",
       "    }\n",
       "</style>\n",
       "<table border=\"1\" class=\"dataframe\">\n",
       "  <thead>\n",
       "    <tr style=\"text-align: right;\">\n",
       "      <th></th>\n",
       "      <th>_c0</th>\n",
       "      <th>_c1</th>\n",
       "      <th>_c2</th>\n",
       "      <th>_c3</th>\n",
       "      <th>ano</th>\n",
       "    </tr>\n",
       "  </thead>\n",
       "  <tbody>\n",
       "    <tr>\n",
       "      <th>0</th>\n",
       "      <td>0</td>\n",
       "      <td>E</td>\n",
       "      <td>1</td>\n",
       "      <td>1999-02-28</td>\n",
       "      <td>1999</td>\n",
       "    </tr>\n",
       "    <tr>\n",
       "      <th>1</th>\n",
       "      <td>1</td>\n",
       "      <td>A</td>\n",
       "      <td>2</td>\n",
       "      <td>1999-10-28</td>\n",
       "      <td>1999</td>\n",
       "    </tr>\n",
       "    <tr>\n",
       "      <th>2</th>\n",
       "      <td>2</td>\n",
       "      <td>B</td>\n",
       "      <td>5</td>\n",
       "      <td>1998-05-02</td>\n",
       "      <td>1998</td>\n",
       "    </tr>\n",
       "    <tr>\n",
       "      <th>3</th>\n",
       "      <td>3</td>\n",
       "      <td>A</td>\n",
       "      <td>3</td>\n",
       "      <td>1999-08-28</td>\n",
       "      <td>1999</td>\n",
       "    </tr>\n",
       "    <tr>\n",
       "      <th>4</th>\n",
       "      <td>4</td>\n",
       "      <td>C</td>\n",
       "      <td>6</td>\n",
       "      <td>1999-12-01</td>\n",
       "      <td>1999</td>\n",
       "    </tr>\n",
       "  </tbody>\n",
       "</table>\n",
       "</div>"
      ],
      "text/plain": [
       "   _c0 _c1  _c2         _c3   ano\n",
       "0    0   E    1  1999-02-28  1999\n",
       "1    1   A    2  1999-10-28  1999\n",
       "2    2   B    5  1998-05-02  1998\n",
       "3    3   A    3  1999-08-28  1999\n",
       "4    4   C    6  1999-12-01  1999"
      ]
     },
     "execution_count": 3,
     "metadata": {},
     "output_type": "execute_result"
    }
   ],
   "source": [
    "#Otra opción\n",
    "tbl0aux['ano'] = tbl0aux['_c3'].str.slice(0,4)\n",
    "tbl0aux.head()"
   ]
  },
  {
   "cell_type": "markdown",
   "metadata": {},
   "source": [
    "# Q09"
   ]
  },
  {
   "cell_type": "code",
   "execution_count": 75,
   "metadata": {},
   "outputs": [],
   "source": [
    "##\n",
    "## Construya una tabla que contenga _c1 y una lista\n",
    "## separada por ':' de los valores de la columna _c2\n",
    "## para el archivo tbl0.tsv\n",
    "## "
   ]
  },
  {
   "cell_type": "code",
   "execution_count": 61,
   "metadata": {},
   "outputs": [],
   "source": [
    "import pandas\n",
    "tbl0 = pandas.read_csv('tbl0.tsv', sep = '\\t')"
   ]
  },
  {
   "cell_type": "code",
   "execution_count": 62,
   "metadata": {},
   "outputs": [
    {
     "data": {
      "text/html": [
       "<div>\n",
       "<style scoped>\n",
       "    .dataframe tbody tr th:only-of-type {\n",
       "        vertical-align: middle;\n",
       "    }\n",
       "\n",
       "    .dataframe tbody tr th {\n",
       "        vertical-align: top;\n",
       "    }\n",
       "\n",
       "    .dataframe thead th {\n",
       "        text-align: right;\n",
       "    }\n",
       "</style>\n",
       "<table border=\"1\" class=\"dataframe\">\n",
       "  <thead>\n",
       "    <tr style=\"text-align: right;\">\n",
       "      <th></th>\n",
       "      <th>_c0</th>\n",
       "      <th>_c1</th>\n",
       "      <th>_c2</th>\n",
       "      <th>_c3</th>\n",
       "    </tr>\n",
       "  </thead>\n",
       "  <tbody>\n",
       "    <tr>\n",
       "      <th>0</th>\n",
       "      <td>0</td>\n",
       "      <td>E</td>\n",
       "      <td>1</td>\n",
       "      <td>1999-02-28</td>\n",
       "    </tr>\n",
       "    <tr>\n",
       "      <th>1</th>\n",
       "      <td>1</td>\n",
       "      <td>A</td>\n",
       "      <td>2</td>\n",
       "      <td>1999-10-28</td>\n",
       "    </tr>\n",
       "    <tr>\n",
       "      <th>2</th>\n",
       "      <td>2</td>\n",
       "      <td>B</td>\n",
       "      <td>5</td>\n",
       "      <td>1998-05-02</td>\n",
       "    </tr>\n",
       "    <tr>\n",
       "      <th>3</th>\n",
       "      <td>3</td>\n",
       "      <td>A</td>\n",
       "      <td>3</td>\n",
       "      <td>1999-08-28</td>\n",
       "    </tr>\n",
       "    <tr>\n",
       "      <th>4</th>\n",
       "      <td>4</td>\n",
       "      <td>C</td>\n",
       "      <td>6</td>\n",
       "      <td>1999-12-01</td>\n",
       "    </tr>\n",
       "  </tbody>\n",
       "</table>\n",
       "</div>"
      ],
      "text/plain": [
       "   _c0 _c1  _c2         _c3\n",
       "0    0   E    1  1999-02-28\n",
       "1    1   A    2  1999-10-28\n",
       "2    2   B    5  1998-05-02\n",
       "3    3   A    3  1999-08-28\n",
       "4    4   C    6  1999-12-01"
      ]
     },
     "execution_count": 62,
     "metadata": {},
     "output_type": "execute_result"
    }
   ],
   "source": [
    "tbl0.head()"
   ]
  },
  {
   "cell_type": "code",
   "execution_count": 64,
   "metadata": {},
   "outputs": [],
   "source": [
    "tbl01 = tbl0.sort_values('_c2') #Ordenar los valores de numero"
   ]
  },
  {
   "cell_type": "code",
   "execution_count": 65,
   "metadata": {},
   "outputs": [
    {
     "data": {
      "text/html": [
       "<div>\n",
       "<style scoped>\n",
       "    .dataframe tbody tr th:only-of-type {\n",
       "        vertical-align: middle;\n",
       "    }\n",
       "\n",
       "    .dataframe tbody tr th {\n",
       "        vertical-align: top;\n",
       "    }\n",
       "\n",
       "    .dataframe thead th {\n",
       "        text-align: right;\n",
       "    }\n",
       "</style>\n",
       "<table border=\"1\" class=\"dataframe\">\n",
       "  <thead>\n",
       "    <tr style=\"text-align: right;\">\n",
       "      <th></th>\n",
       "      <th>_c0</th>\n",
       "      <th>_c1</th>\n",
       "      <th>_c2</th>\n",
       "      <th>_c3</th>\n",
       "    </tr>\n",
       "  </thead>\n",
       "  <tbody>\n",
       "    <tr>\n",
       "      <th>29</th>\n",
       "      <td>29</td>\n",
       "      <td>C</td>\n",
       "      <td>0</td>\n",
       "      <td>1999-08-22</td>\n",
       "    </tr>\n",
       "    <tr>\n",
       "      <th>0</th>\n",
       "      <td>0</td>\n",
       "      <td>E</td>\n",
       "      <td>1</td>\n",
       "      <td>1999-02-28</td>\n",
       "    </tr>\n",
       "    <tr>\n",
       "      <th>15</th>\n",
       "      <td>15</td>\n",
       "      <td>D</td>\n",
       "      <td>1</td>\n",
       "      <td>1997-12-01</td>\n",
       "    </tr>\n",
       "    <tr>\n",
       "      <th>23</th>\n",
       "      <td>23</td>\n",
       "      <td>A</td>\n",
       "      <td>1</td>\n",
       "      <td>1999-08-25</td>\n",
       "    </tr>\n",
       "    <tr>\n",
       "      <th>7</th>\n",
       "      <td>7</td>\n",
       "      <td>B</td>\n",
       "      <td>1</td>\n",
       "      <td>1999-05-10</td>\n",
       "    </tr>\n",
       "  </tbody>\n",
       "</table>\n",
       "</div>"
      ],
      "text/plain": [
       "    _c0 _c1  _c2         _c3\n",
       "29   29   C    0  1999-08-22\n",
       "0     0   E    1  1999-02-28\n",
       "15   15   D    1  1997-12-01\n",
       "23   23   A    1  1999-08-25\n",
       "7     7   B    1  1999-05-10"
      ]
     },
     "execution_count": 65,
     "metadata": {},
     "output_type": "execute_result"
    }
   ],
   "source": [
    "tbl01.head()"
   ]
  },
  {
   "cell_type": "code",
   "execution_count": 67,
   "metadata": {},
   "outputs": [],
   "source": [
    "tbl01['_c2'] = tbl01['_c2'].apply(str)  #Convertir los valores a string para poder aplicarles la función siguiente"
   ]
  },
  {
   "cell_type": "code",
   "execution_count": 69,
   "metadata": {},
   "outputs": [],
   "source": [
    "tbl02 = tbl01.groupby('_c1')['_c2'].apply(lambda x: ':'.join(x))"
   ]
  },
  {
   "cell_type": "code",
   "execution_count": 70,
   "metadata": {},
   "outputs": [
    {
     "data": {
      "text/plain": [
       "_c1\n",
       "A    1:1:2:3:6:7:8:9\n",
       "B      1:3:4:5:6:8:9\n",
       "Name: _c2, dtype: object"
      ]
     },
     "execution_count": 70,
     "metadata": {},
     "output_type": "execute_result"
    }
   ],
   "source": [
    "tbl02.head(2)"
   ]
  },
  {
   "cell_type": "code",
   "execution_count": 71,
   "metadata": {},
   "outputs": [
    {
     "data": {
      "text/html": [
       "<div>\n",
       "<style scoped>\n",
       "    .dataframe tbody tr th:only-of-type {\n",
       "        vertical-align: middle;\n",
       "    }\n",
       "\n",
       "    .dataframe tbody tr th {\n",
       "        vertical-align: top;\n",
       "    }\n",
       "\n",
       "    .dataframe thead th {\n",
       "        text-align: right;\n",
       "    }\n",
       "</style>\n",
       "<table border=\"1\" class=\"dataframe\">\n",
       "  <thead>\n",
       "    <tr style=\"text-align: right;\">\n",
       "      <th></th>\n",
       "      <th>_c0</th>\n",
       "      <th>lista</th>\n",
       "    </tr>\n",
       "  </thead>\n",
       "  <tbody>\n",
       "    <tr>\n",
       "      <th>0</th>\n",
       "      <td>A</td>\n",
       "      <td>1:1:2:3:6:7:8:9</td>\n",
       "    </tr>\n",
       "    <tr>\n",
       "      <th>1</th>\n",
       "      <td>B</td>\n",
       "      <td>1:3:4:5:6:8:9</td>\n",
       "    </tr>\n",
       "    <tr>\n",
       "      <th>2</th>\n",
       "      <td>C</td>\n",
       "      <td>0:5:6:7:9</td>\n",
       "    </tr>\n",
       "    <tr>\n",
       "      <th>3</th>\n",
       "      <td>D</td>\n",
       "      <td>1:2:3:5:5:7</td>\n",
       "    </tr>\n",
       "    <tr>\n",
       "      <th>4</th>\n",
       "      <td>E</td>\n",
       "      <td>1:1:2:3:3:4:5:5:5:6:7:8:8:9</td>\n",
       "    </tr>\n",
       "  </tbody>\n",
       "</table>\n",
       "</div>"
      ],
      "text/plain": [
       "  _c0                        lista\n",
       "0   A              1:1:2:3:6:7:8:9\n",
       "1   B                1:3:4:5:6:8:9\n",
       "2   C                    0:5:6:7:9\n",
       "3   D                  1:2:3:5:5:7\n",
       "4   E  1:1:2:3:3:4:5:5:5:6:7:8:8:9"
      ]
     },
     "execution_count": 71,
     "metadata": {},
     "output_type": "execute_result"
    }
   ],
   "source": [
    "tbl03 = pandas.DataFrame({'_c0':tbl02.index, 'lista':tbl02.values})\n",
    "print(tbl03)"
   ]
  },
  {
   "cell_type": "code",
   "execution_count": 74,
   "metadata": {},
   "outputs": [
    {
     "name": "stdout",
     "output_type": "stream",
     "text": [
      "  _c0                        lista\n",
      "0   A              1:1:2:3:6:7:8:9\n",
      "1   B                1:3:4:5:6:8:9\n",
      "2   C                    0:5:6:7:9\n",
      "3   D                  1:2:3:5:5:7\n",
      "4   E  1:1:2:3:3:4:5:5:5:6:7:8:8:9\n"
     ]
    }
   ],
   "source": [
    "%run q09.py"
   ]
  },
  {
   "cell_type": "markdown",
   "metadata": {},
   "source": [
    "# Q10"
   ]
  },
  {
   "cell_type": "code",
   "execution_count": null,
   "metadata": {},
   "outputs": [],
   "source": [
    "##\n",
    "## Construya una tabla que contenga _c0 y una lista\n",
    "## separada por ',' de los valores de la columna _c4\n",
    "## de la tabla tbl1.tsv\n",
    "## "
   ]
  },
  {
   "cell_type": "code",
   "execution_count": 76,
   "metadata": {},
   "outputs": [],
   "source": [
    "import pandas\n",
    "tbl1 = pandas.read_csv('tbl1.tsv', sep = '\\t')"
   ]
  },
  {
   "cell_type": "code",
   "execution_count": 77,
   "metadata": {},
   "outputs": [
    {
     "data": {
      "text/html": [
       "<div>\n",
       "<style scoped>\n",
       "    .dataframe tbody tr th:only-of-type {\n",
       "        vertical-align: middle;\n",
       "    }\n",
       "\n",
       "    .dataframe tbody tr th {\n",
       "        vertical-align: top;\n",
       "    }\n",
       "\n",
       "    .dataframe thead th {\n",
       "        text-align: right;\n",
       "    }\n",
       "</style>\n",
       "<table border=\"1\" class=\"dataframe\">\n",
       "  <thead>\n",
       "    <tr style=\"text-align: right;\">\n",
       "      <th></th>\n",
       "      <th>_c0</th>\n",
       "      <th>_c4</th>\n",
       "    </tr>\n",
       "  </thead>\n",
       "  <tbody>\n",
       "    <tr>\n",
       "      <th>0</th>\n",
       "      <td>0</td>\n",
       "      <td>b</td>\n",
       "    </tr>\n",
       "    <tr>\n",
       "      <th>1</th>\n",
       "      <td>0</td>\n",
       "      <td>g</td>\n",
       "    </tr>\n",
       "  </tbody>\n",
       "</table>\n",
       "</div>"
      ],
      "text/plain": [
       "   _c0 _c4\n",
       "0    0   b\n",
       "1    0   g"
      ]
     },
     "execution_count": 77,
     "metadata": {},
     "output_type": "execute_result"
    }
   ],
   "source": [
    "tbl1.head(2)"
   ]
  },
  {
   "cell_type": "code",
   "execution_count": 78,
   "metadata": {},
   "outputs": [],
   "source": [
    "tbl10 = tbl1.sort_values('_c4')"
   ]
  },
  {
   "cell_type": "code",
   "execution_count": 80,
   "metadata": {},
   "outputs": [],
   "source": [
    "tbl11 = tbl10.groupby('_c0')['_c4'].apply(lambda x: ','.join(x))"
   ]
  },
  {
   "cell_type": "code",
   "execution_count": 81,
   "metadata": {},
   "outputs": [
    {
     "data": {
      "text/plain": [
       "_c0\n",
       "0    b,f,g\n",
       "1    a,c,f\n",
       "Name: _c4, dtype: object"
      ]
     },
     "execution_count": 81,
     "metadata": {},
     "output_type": "execute_result"
    }
   ],
   "source": [
    "tbl11.head(2)"
   ]
  },
  {
   "cell_type": "code",
   "execution_count": 84,
   "metadata": {},
   "outputs": [
    {
     "name": "stdout",
     "output_type": "stream",
     "text": [
      "    _c0    lista\n",
      "0     0    b,f,g\n",
      "1     1    a,c,f\n",
      "2     2  a,c,e,f\n",
      "3     3      a,b\n",
      "4     4  a,d,f,g\n",
      "5     5      c,d\n",
      "6     6    a,d,g\n",
      "7     7      a,b\n",
      "8     8  a,d,e,f\n",
      "9     9  b,d,f,g\n",
      "10   10  b,c,d,f\n",
      "11   11  a,c,d,e\n",
      "12   12  b,e,f,g\n",
      "13   13      c,f\n",
      "14   14      b,d\n",
      "15   15      e,f\n",
      "16   16    b,e,f\n",
      "17   17      a,g\n",
      "18   18  a,c,e,f\n",
      "19   19      a,e\n",
      "20   20      e,f\n",
      "21   21    b,c,g\n",
      "22   22    a,c,f\n",
      "23   23    a,d,f\n",
      "24   24      c,d\n",
      "25   25    c,d,e\n",
      "26   26    a,e,f\n",
      "27   27    a,c,g\n",
      "28   28      e,f\n",
      "29   29  a,c,f,g\n",
      "30   30      b,f\n",
      "31   31      b,f\n",
      "32   32      a,c\n",
      "33   33    b,c,f\n",
      "34   34    a,e,f\n",
      "35   35      a,f\n",
      "36   36      a,c\n",
      "37   37  a,c,e,f\n",
      "38   38      d,e\n",
      "39   39    a,d,f\n"
     ]
    }
   ],
   "source": [
    "tbl12 = pandas.DataFrame({'_c0':tbl11.index, 'lista':tbl11.values})\n",
    "print(tbl12)"
   ]
  },
  {
   "cell_type": "code",
   "execution_count": 85,
   "metadata": {},
   "outputs": [
    {
     "name": "stdout",
     "output_type": "stream",
     "text": [
      "    _c0    lista\n",
      "0     0    b,f,g\n",
      "1     1    a,c,f\n",
      "2     2  a,c,e,f\n",
      "3     3      a,b\n",
      "4     4  a,d,f,g\n",
      "5     5      c,d\n",
      "6     6    a,d,g\n",
      "7     7      a,b\n",
      "8     8  a,d,e,f\n",
      "9     9  b,d,f,g\n",
      "10   10  b,c,d,f\n",
      "11   11  a,c,d,e\n",
      "12   12  b,e,f,g\n",
      "13   13      c,f\n",
      "14   14      b,d\n",
      "15   15      e,f\n",
      "16   16    b,e,f\n",
      "17   17      a,g\n",
      "18   18  a,c,e,f\n",
      "19   19      a,e\n",
      "20   20      e,f\n",
      "21   21    b,c,g\n",
      "22   22    a,c,f\n",
      "23   23    a,d,f\n",
      "24   24      c,d\n",
      "25   25    c,d,e\n",
      "26   26    a,e,f\n",
      "27   27    a,c,g\n",
      "28   28      e,f\n",
      "29   29  a,c,f,g\n",
      "30   30      b,f\n",
      "31   31      b,f\n",
      "32   32      a,c\n",
      "33   33    b,c,f\n",
      "34   34    a,e,f\n",
      "35   35      a,f\n",
      "36   36      a,c\n",
      "37   37  a,c,e,f\n",
      "38   38      d,e\n",
      "39   39    a,d,f\n"
     ]
    }
   ],
   "source": [
    "%run q10.py"
   ]
  },
  {
   "cell_type": "markdown",
   "metadata": {},
   "source": [
    "# Q11"
   ]
  },
  {
   "cell_type": "code",
   "execution_count": 86,
   "metadata": {},
   "outputs": [],
   "source": [
    "##\n",
    "## Construya una tabla que contenga _c0 y una lista\n",
    "## separada por ',' de los valores de la columna _c5a\n",
    "## y _c5b (unidos por ':') de la tabla tbl2.tsv\n",
    "## "
   ]
  },
  {
   "cell_type": "code",
   "execution_count": 88,
   "metadata": {},
   "outputs": [],
   "source": [
    "import pandas\n",
    "tbl2 = pandas.read_csv('tbl2.tsv', sep=\"\\t\")"
   ]
  },
  {
   "cell_type": "code",
   "execution_count": 89,
   "metadata": {},
   "outputs": [
    {
     "data": {
      "text/html": [
       "<div>\n",
       "<style scoped>\n",
       "    .dataframe tbody tr th:only-of-type {\n",
       "        vertical-align: middle;\n",
       "    }\n",
       "\n",
       "    .dataframe tbody tr th {\n",
       "        vertical-align: top;\n",
       "    }\n",
       "\n",
       "    .dataframe thead th {\n",
       "        text-align: right;\n",
       "    }\n",
       "</style>\n",
       "<table border=\"1\" class=\"dataframe\">\n",
       "  <thead>\n",
       "    <tr style=\"text-align: right;\">\n",
       "      <th></th>\n",
       "      <th>_c0</th>\n",
       "      <th>_c5a</th>\n",
       "      <th>_c5b</th>\n",
       "    </tr>\n",
       "  </thead>\n",
       "  <tbody>\n",
       "    <tr>\n",
       "      <th>0</th>\n",
       "      <td>0</td>\n",
       "      <td>jjj</td>\n",
       "      <td>3</td>\n",
       "    </tr>\n",
       "  </tbody>\n",
       "</table>\n",
       "</div>"
      ],
      "text/plain": [
       "   _c0 _c5a  _c5b\n",
       "0    0  jjj     3"
      ]
     },
     "execution_count": 89,
     "metadata": {},
     "output_type": "execute_result"
    }
   ],
   "source": [
    "tbl2.head(1)"
   ]
  },
  {
   "cell_type": "code",
   "execution_count": 96,
   "metadata": {},
   "outputs": [],
   "source": [
    "tbl2['lista'] = tbl2['_c5a']+':'+tbl2['_c5b'].astype(str)"
   ]
  },
  {
   "cell_type": "code",
   "execution_count": 97,
   "metadata": {},
   "outputs": [
    {
     "data": {
      "text/html": [
       "<div>\n",
       "<style scoped>\n",
       "    .dataframe tbody tr th:only-of-type {\n",
       "        vertical-align: middle;\n",
       "    }\n",
       "\n",
       "    .dataframe tbody tr th {\n",
       "        vertical-align: top;\n",
       "    }\n",
       "\n",
       "    .dataframe thead th {\n",
       "        text-align: right;\n",
       "    }\n",
       "</style>\n",
       "<table border=\"1\" class=\"dataframe\">\n",
       "  <thead>\n",
       "    <tr style=\"text-align: right;\">\n",
       "      <th></th>\n",
       "      <th>_c0</th>\n",
       "      <th>_c5a</th>\n",
       "      <th>_c5b</th>\n",
       "      <th>lista</th>\n",
       "    </tr>\n",
       "  </thead>\n",
       "  <tbody>\n",
       "    <tr>\n",
       "      <th>0</th>\n",
       "      <td>0</td>\n",
       "      <td>jjj</td>\n",
       "      <td>3</td>\n",
       "      <td>jjj:3</td>\n",
       "    </tr>\n",
       "  </tbody>\n",
       "</table>\n",
       "</div>"
      ],
      "text/plain": [
       "   _c0 _c5a  _c5b  lista\n",
       "0    0  jjj     3  jjj:3"
      ]
     },
     "execution_count": 97,
     "metadata": {},
     "output_type": "execute_result"
    }
   ],
   "source": [
    "tbl2.head(1)"
   ]
  },
  {
   "cell_type": "code",
   "execution_count": 100,
   "metadata": {},
   "outputs": [],
   "source": [
    "tbl20 = tbl2.groupby('_c0')['lista'].apply(lambda x:','.join(x))"
   ]
  },
  {
   "cell_type": "code",
   "execution_count": 101,
   "metadata": {},
   "outputs": [
    {
     "name": "stdout",
     "output_type": "stream",
     "text": [
      "_c0\n",
      "0           jjj:3,bbb:0,ddd:9,ggg:8,hhh:2\n",
      "1                 ccc:2,ddd:0,aaa:3,hhh:9\n",
      "2                 ddd:2,ggg:5,ccc:6,jjj:1\n",
      "3                 hhh:9,iii:5,eee:7,bbb:1\n",
      "4                 iii:6,ddd:5,eee:4,jjj:3\n",
      "5           bbb:2,hhh:0,ccc:4,fff:1,aaa:7\n",
      "6     aaa:5,fff:8,ddd:2,iii:0,jjj:7,ccc:1\n",
      "7                       fff:3,hhh:1,ddd:2\n",
      "8     eee:4,ccc:5,iii:9,fff:7,ggg:6,bbb:0\n",
      "9     bbb:7,jjj:9,fff:5,iii:4,ggg:2,eee:3\n",
      "10          hhh:6,eee:4,iii:0,fff:2,jjj:1\n",
      "11                      bbb:7,iii:6,ggg:9\n",
      "12          bbb:9,aaa:3,ccc:6,fff:4,eee:2\n",
      "13                      aaa:8,ddd:5,jjj:1\n",
      "14          ccc:0,jjj:6,fff:7,ddd:3,aaa:2\n",
      "15                ccc:0,eee:6,bbb:9,ddd:3\n",
      "16    bbb:6,iii:3,hhh:5,fff:4,ggg:9,ddd:2\n",
      "17                      hhh:4,jjj:5,ccc:9\n",
      "18                      ccc:1,iii:6,fff:9\n",
      "19                      bbb:9,aaa:3,fff:1\n",
      "20                      ddd:9,iii:2,aaa:4\n",
      "21                      ccc:5,fff:8,iii:7\n",
      "22                      eee:3,jjj:2,ddd:7\n",
      "23          jjj:1,ggg:0,ccc:7,ddd:9,bbb:3\n",
      "24    jjj:6,ccc:0,aaa:1,hhh:9,iii:7,ggg:8\n",
      "25    fff:3,eee:6,iii:4,bbb:7,ddd:0,ccc:1\n",
      "26                      fff:0,ddd:5,ccc:4\n",
      "27          ggg:6,hhh:3,ddd:9,ccc:0,jjj:7\n",
      "28          hhh:6,jjj:0,eee:5,iii:7,ccc:3\n",
      "29    eee:1,fff:4,aaa:2,ccc:7,ggg:0,ddd:6\n",
      "30          ccc:6,aaa:9,eee:5,ddd:0,bbb:3\n",
      "31    bbb:7,hhh:1,aaa:6,iii:4,fff:9,ddd:5\n",
      "32                fff:3,ccc:1,ggg:2,eee:5\n",
      "33    iii:7,ggg:3,ddd:0,jjj:8,hhh:5,ccc:1\n",
      "34          hhh:6,ccc:3,jjj:0,bbb:8,ddd:7\n",
      "35                      aaa:0,fff:5,ddd:3\n",
      "36          ddd:5,jjj:2,iii:7,ccc:0,bbb:4\n",
      "37                      eee:0,fff:2,hhh:6\n",
      "38                      fff:9,iii:2,eee:0\n",
      "39                      hhh:8,ggg:3,jjj:5\n",
      "Name: lista, dtype: object\n"
     ]
    }
   ],
   "source": [
    "print(tbl20)"
   ]
  },
  {
   "cell_type": "markdown",
   "metadata": {},
   "source": [
    "# Q12"
   ]
  },
  {
   "cell_type": "code",
   "execution_count": 103,
   "metadata": {},
   "outputs": [],
   "source": [
    "## Si la columna _c0 es la clave en las tablas tbl0.tsv\n",
    "## y tbl2.tsv, compute la suma de tbl2._c5b por cada\n",
    "## valor en tbl0._c1."
   ]
  },
  {
   "cell_type": "code",
   "execution_count": 104,
   "metadata": {},
   "outputs": [],
   "source": [
    "import pandas"
   ]
  },
  {
   "cell_type": "code",
   "execution_count": 106,
   "metadata": {},
   "outputs": [],
   "source": [
    "tbl0 = pandas.read_csv('tbl0.tsv', sep='\\t')\n",
    "tbl1 = pandas.read_csv('tbl1.tsv', sep='\\t')\n",
    "tbl2 = pandas.read_csv('tbl2.tsv', sep='\\t')"
   ]
  },
  {
   "cell_type": "code",
   "execution_count": 107,
   "metadata": {},
   "outputs": [
    {
     "data": {
      "text/html": [
       "<div>\n",
       "<style scoped>\n",
       "    .dataframe tbody tr th:only-of-type {\n",
       "        vertical-align: middle;\n",
       "    }\n",
       "\n",
       "    .dataframe tbody tr th {\n",
       "        vertical-align: top;\n",
       "    }\n",
       "\n",
       "    .dataframe thead th {\n",
       "        text-align: right;\n",
       "    }\n",
       "</style>\n",
       "<table border=\"1\" class=\"dataframe\">\n",
       "  <thead>\n",
       "    <tr style=\"text-align: right;\">\n",
       "      <th></th>\n",
       "      <th>_c0</th>\n",
       "      <th>_c1</th>\n",
       "      <th>_c2</th>\n",
       "      <th>_c3</th>\n",
       "    </tr>\n",
       "  </thead>\n",
       "  <tbody>\n",
       "    <tr>\n",
       "      <th>0</th>\n",
       "      <td>0</td>\n",
       "      <td>E</td>\n",
       "      <td>1</td>\n",
       "      <td>1999-02-28</td>\n",
       "    </tr>\n",
       "    <tr>\n",
       "      <th>1</th>\n",
       "      <td>1</td>\n",
       "      <td>A</td>\n",
       "      <td>2</td>\n",
       "      <td>1999-10-28</td>\n",
       "    </tr>\n",
       "  </tbody>\n",
       "</table>\n",
       "</div>"
      ],
      "text/plain": [
       "   _c0 _c1  _c2         _c3\n",
       "0    0   E    1  1999-02-28\n",
       "1    1   A    2  1999-10-28"
      ]
     },
     "execution_count": 107,
     "metadata": {},
     "output_type": "execute_result"
    }
   ],
   "source": [
    "tbl0.head(2)"
   ]
  },
  {
   "cell_type": "code",
   "execution_count": 108,
   "metadata": {},
   "outputs": [
    {
     "data": {
      "text/html": [
       "<div>\n",
       "<style scoped>\n",
       "    .dataframe tbody tr th:only-of-type {\n",
       "        vertical-align: middle;\n",
       "    }\n",
       "\n",
       "    .dataframe tbody tr th {\n",
       "        vertical-align: top;\n",
       "    }\n",
       "\n",
       "    .dataframe thead th {\n",
       "        text-align: right;\n",
       "    }\n",
       "</style>\n",
       "<table border=\"1\" class=\"dataframe\">\n",
       "  <thead>\n",
       "    <tr style=\"text-align: right;\">\n",
       "      <th></th>\n",
       "      <th>_c0</th>\n",
       "      <th>_c4</th>\n",
       "    </tr>\n",
       "  </thead>\n",
       "  <tbody>\n",
       "    <tr>\n",
       "      <th>0</th>\n",
       "      <td>0</td>\n",
       "      <td>b</td>\n",
       "    </tr>\n",
       "    <tr>\n",
       "      <th>1</th>\n",
       "      <td>0</td>\n",
       "      <td>g</td>\n",
       "    </tr>\n",
       "  </tbody>\n",
       "</table>\n",
       "</div>"
      ],
      "text/plain": [
       "   _c0 _c4\n",
       "0    0   b\n",
       "1    0   g"
      ]
     },
     "execution_count": 108,
     "metadata": {},
     "output_type": "execute_result"
    }
   ],
   "source": [
    "tbl1.head(2)"
   ]
  },
  {
   "cell_type": "code",
   "execution_count": 109,
   "metadata": {},
   "outputs": [
    {
     "data": {
      "text/html": [
       "<div>\n",
       "<style scoped>\n",
       "    .dataframe tbody tr th:only-of-type {\n",
       "        vertical-align: middle;\n",
       "    }\n",
       "\n",
       "    .dataframe tbody tr th {\n",
       "        vertical-align: top;\n",
       "    }\n",
       "\n",
       "    .dataframe thead th {\n",
       "        text-align: right;\n",
       "    }\n",
       "</style>\n",
       "<table border=\"1\" class=\"dataframe\">\n",
       "  <thead>\n",
       "    <tr style=\"text-align: right;\">\n",
       "      <th></th>\n",
       "      <th>_c0</th>\n",
       "      <th>_c5a</th>\n",
       "      <th>_c5b</th>\n",
       "    </tr>\n",
       "  </thead>\n",
       "  <tbody>\n",
       "    <tr>\n",
       "      <th>0</th>\n",
       "      <td>0</td>\n",
       "      <td>jjj</td>\n",
       "      <td>3</td>\n",
       "    </tr>\n",
       "    <tr>\n",
       "      <th>1</th>\n",
       "      <td>0</td>\n",
       "      <td>bbb</td>\n",
       "      <td>0</td>\n",
       "    </tr>\n",
       "  </tbody>\n",
       "</table>\n",
       "</div>"
      ],
      "text/plain": [
       "   _c0 _c5a  _c5b\n",
       "0    0  jjj     3\n",
       "1    0  bbb     0"
      ]
     },
     "execution_count": 109,
     "metadata": {},
     "output_type": "execute_result"
    }
   ],
   "source": [
    "tbl2.head(2)"
   ]
  },
  {
   "cell_type": "code",
   "execution_count": 110,
   "metadata": {},
   "outputs": [],
   "source": [
    "tbl21 = tbl2.groupby('_c5a')['_c5b'].sum()"
   ]
  },
  {
   "cell_type": "code",
   "execution_count": 112,
   "metadata": {},
   "outputs": [
    {
     "name": "stdout",
     "output_type": "stream",
     "text": [
      "_c5a\n",
      "aaa    53\n",
      "bbb    82\n",
      "ccc    72\n",
      "ddd    98\n",
      "eee    55\n",
      "fff    94\n",
      "ggg    61\n",
      "hhh    80\n",
      "iii    86\n",
      "jjj    67\n",
      "Name: _c5b, dtype: int64\n"
     ]
    }
   ],
   "source": [
    "print(tbl21)"
   ]
  },
  {
   "cell_type": "code",
   "execution_count": 113,
   "metadata": {},
   "outputs": [
    {
     "name": "stdout",
     "output_type": "stream",
     "text": [
      "_c5a\n",
      "aaa    53\n",
      "bbb    82\n",
      "ccc    72\n",
      "ddd    98\n",
      "eee    55\n",
      "fff    94\n",
      "ggg    61\n",
      "hhh    80\n",
      "iii    86\n",
      "jjj    67\n",
      "Name: _c5b, dtype: int64\n"
     ]
    }
   ],
   "source": [
    "%run q12.py"
   ]
  },
  {
   "cell_type": "code",
   "execution_count": null,
   "metadata": {},
   "outputs": [],
   "source": []
  }
 ],
 "metadata": {
  "kernelspec": {
   "display_name": "Python 3",
   "language": "python",
   "name": "python3"
  },
  "language_info": {
   "codemirror_mode": {
    "name": "ipython",
    "version": 3
   },
   "file_extension": ".py",
   "mimetype": "text/x-python",
   "name": "python",
   "nbconvert_exporter": "python",
   "pygments_lexer": "ipython3",
   "version": "3.6.7"
  }
 },
 "nbformat": 4,
 "nbformat_minor": 2
}
