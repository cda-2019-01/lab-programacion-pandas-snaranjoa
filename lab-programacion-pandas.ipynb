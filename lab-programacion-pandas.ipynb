{
 "cells": [
  {
   "cell_type": "markdown",
   "metadata": {},
   "source": [
    "# Q01"
   ]
  },
  {
   "cell_type": "code",
   "execution_count": 9,
   "metadata": {},
   "outputs": [],
   "source": [
    "##\n",
    "## Imprima la cantidad de registros por cada letra \n",
    "## de la columna _c1 de la tabla tbl0\n",
    "## "
   ]
  },
  {
   "cell_type": "code",
   "execution_count": 8,
   "metadata": {},
   "outputs": [],
   "source": [
    "import pandas\n",
    "tbl0 = pandas.read_csv('tbl0.tsv', sep = '\\t')"
   ]
  },
  {
   "cell_type": "code",
   "execution_count": 2,
   "metadata": {},
   "outputs": [
    {
     "data": {
      "text/html": [
       "<div>\n",
       "<style scoped>\n",
       "    .dataframe tbody tr th:only-of-type {\n",
       "        vertical-align: middle;\n",
       "    }\n",
       "\n",
       "    .dataframe tbody tr th {\n",
       "        vertical-align: top;\n",
       "    }\n",
       "\n",
       "    .dataframe thead th {\n",
       "        text-align: right;\n",
       "    }\n",
       "</style>\n",
       "<table border=\"1\" class=\"dataframe\">\n",
       "  <thead>\n",
       "    <tr style=\"text-align: right;\">\n",
       "      <th></th>\n",
       "      <th>_c0</th>\n",
       "      <th>_c1</th>\n",
       "      <th>_c2</th>\n",
       "      <th>_c3</th>\n",
       "    </tr>\n",
       "  </thead>\n",
       "  <tbody>\n",
       "    <tr>\n",
       "      <th>0</th>\n",
       "      <td>0</td>\n",
       "      <td>E</td>\n",
       "      <td>1</td>\n",
       "      <td>1999-02-28</td>\n",
       "    </tr>\n",
       "    <tr>\n",
       "      <th>1</th>\n",
       "      <td>1</td>\n",
       "      <td>A</td>\n",
       "      <td>2</td>\n",
       "      <td>1999-10-28</td>\n",
       "    </tr>\n",
       "    <tr>\n",
       "      <th>2</th>\n",
       "      <td>2</td>\n",
       "      <td>B</td>\n",
       "      <td>5</td>\n",
       "      <td>1998-05-02</td>\n",
       "    </tr>\n",
       "    <tr>\n",
       "      <th>3</th>\n",
       "      <td>3</td>\n",
       "      <td>A</td>\n",
       "      <td>3</td>\n",
       "      <td>1999-08-28</td>\n",
       "    </tr>\n",
       "    <tr>\n",
       "      <th>4</th>\n",
       "      <td>4</td>\n",
       "      <td>C</td>\n",
       "      <td>6</td>\n",
       "      <td>1999-12-01</td>\n",
       "    </tr>\n",
       "  </tbody>\n",
       "</table>\n",
       "</div>"
      ],
      "text/plain": [
       "   _c0 _c1  _c2         _c3\n",
       "0    0   E    1  1999-02-28\n",
       "1    1   A    2  1999-10-28\n",
       "2    2   B    5  1998-05-02\n",
       "3    3   A    3  1999-08-28\n",
       "4    4   C    6  1999-12-01"
      ]
     },
     "execution_count": 2,
     "metadata": {},
     "output_type": "execute_result"
    }
   ],
   "source": [
    "tbl0.head()"
   ]
  },
  {
   "cell_type": "code",
   "execution_count": 7,
   "metadata": {},
   "outputs": [
    {
     "name": "stdout",
     "output_type": "stream",
     "text": [
      "_c1\n",
      "A     8\n",
      "B     7\n",
      "C     5\n",
      "D     6\n",
      "E    14\n",
      "Name: _c0, dtype: int64\n"
     ]
    }
   ],
   "source": [
    "q01 = tbl0.groupby('_c1').count()['_c0']\n",
    "print(q01)"
   ]
  },
  {
   "cell_type": "code",
   "execution_count": 10,
   "metadata": {},
   "outputs": [
    {
     "name": "stdout",
     "output_type": "stream",
     "text": [
      "_c1\n",
      "A     8\n",
      "B     7\n",
      "C     5\n",
      "D     6\n",
      "E    14\n",
      "Name: _c0, dtype: int64\n"
     ]
    }
   ],
   "source": [
    "%run q01.py"
   ]
  },
  {
   "cell_type": "markdown",
   "metadata": {},
   "source": [
    "# Q02"
   ]
  },
  {
   "cell_type": "code",
   "execution_count": 11,
   "metadata": {},
   "outputs": [],
   "source": [
    "##\n",
    "## Imprima el promedio de la _c2 por cada letra de la _c1 \n",
    "## de la tabla tbl0\n",
    "## "
   ]
  },
  {
   "cell_type": "code",
   "execution_count": 12,
   "metadata": {},
   "outputs": [],
   "source": [
    "import pandas\n",
    "tbl0 = pandas.read_csv('tbl0.tsv', sep = '\\t')"
   ]
  },
  {
   "cell_type": "code",
   "execution_count": 16,
   "metadata": {},
   "outputs": [],
   "source": [
    "q02 = tbl0.groupby('_c1').mean()['_c2']"
   ]
  },
  {
   "cell_type": "code",
   "execution_count": 17,
   "metadata": {},
   "outputs": [
    {
     "name": "stdout",
     "output_type": "stream",
     "text": [
      "_c1\n",
      "A    4.625000\n",
      "B    5.142857\n",
      "C    5.400000\n",
      "D    3.833333\n",
      "E    4.785714\n",
      "Name: _c2, dtype: float64\n"
     ]
    }
   ],
   "source": [
    "print(q02)"
   ]
  },
  {
   "cell_type": "code",
   "execution_count": 19,
   "metadata": {},
   "outputs": [
    {
     "name": "stdout",
     "output_type": "stream",
     "text": [
      "_c1\n",
      "A    4.625000\n",
      "B    5.142857\n",
      "C    5.400000\n",
      "D    3.833333\n",
      "E    4.785714\n",
      "Name: _c2, dtype: float64\n"
     ]
    }
   ],
   "source": [
    "%run q02.py"
   ]
  },
  {
   "cell_type": "markdown",
   "metadata": {},
   "source": [
    "# Q03"
   ]
  },
  {
   "cell_type": "code",
   "execution_count": 20,
   "metadata": {},
   "outputs": [],
   "source": [
    "##\n",
    "## Imprima el maximo de la _c2 por cada letra de la _c1 \n",
    "## de la tabla tbl0\n",
    "## "
   ]
  },
  {
   "cell_type": "code",
   "execution_count": 24,
   "metadata": {},
   "outputs": [],
   "source": [
    "import pandas\n",
    "tbl0 = pandas.read_csv('tbl0.tsv', sep = '\\t')"
   ]
  },
  {
   "cell_type": "code",
   "execution_count": 25,
   "metadata": {},
   "outputs": [
    {
     "name": "stdout",
     "output_type": "stream",
     "text": [
      "_c1\n",
      "A    9\n",
      "B    9\n",
      "C    9\n",
      "D    7\n",
      "E    9\n",
      "Name: _c2, dtype: int64\n"
     ]
    }
   ],
   "source": [
    "q03 = tbl0.groupby('_c1').max()['_c2']\n",
    "print(q03)"
   ]
  },
  {
   "cell_type": "code",
   "execution_count": 26,
   "metadata": {},
   "outputs": [
    {
     "name": "stdout",
     "output_type": "stream",
     "text": [
      "_c1\n",
      "A    9\n",
      "B    9\n",
      "C    9\n",
      "D    7\n",
      "E    9\n",
      "Name: _c2, dtype: int64\n"
     ]
    }
   ],
   "source": [
    "%run q03.py"
   ]
  },
  {
   "cell_type": "markdown",
   "metadata": {},
   "source": [
    "# Q04"
   ]
  },
  {
   "cell_type": "code",
   "execution_count": 27,
   "metadata": {},
   "outputs": [],
   "source": [
    "##\n",
    "## Imprima los valores unicos e la columna _c4 de \n",
    "## de la tabla tbl1 en mayusculas\n",
    "## "
   ]
  },
  {
   "cell_type": "code",
   "execution_count": 68,
   "metadata": {},
   "outputs": [],
   "source": [
    "import pandas\n",
    "tbl1 = pandas.read_csv('tbl1.tsv', sep = '\\t')"
   ]
  },
  {
   "cell_type": "code",
   "execution_count": 73,
   "metadata": {},
   "outputs": [],
   "source": [
    "tbl11 = tbl1.copy()"
   ]
  },
  {
   "cell_type": "code",
   "execution_count": 74,
   "metadata": {},
   "outputs": [
    {
     "data": {
      "text/html": [
       "<div>\n",
       "<style scoped>\n",
       "    .dataframe tbody tr th:only-of-type {\n",
       "        vertical-align: middle;\n",
       "    }\n",
       "\n",
       "    .dataframe tbody tr th {\n",
       "        vertical-align: top;\n",
       "    }\n",
       "\n",
       "    .dataframe thead th {\n",
       "        text-align: right;\n",
       "    }\n",
       "</style>\n",
       "<table border=\"1\" class=\"dataframe\">\n",
       "  <thead>\n",
       "    <tr style=\"text-align: right;\">\n",
       "      <th></th>\n",
       "      <th>_c0</th>\n",
       "      <th>_c4</th>\n",
       "    </tr>\n",
       "  </thead>\n",
       "  <tbody>\n",
       "    <tr>\n",
       "      <th>0</th>\n",
       "      <td>0</td>\n",
       "      <td>b</td>\n",
       "    </tr>\n",
       "    <tr>\n",
       "      <th>1</th>\n",
       "      <td>0</td>\n",
       "      <td>g</td>\n",
       "    </tr>\n",
       "    <tr>\n",
       "      <th>2</th>\n",
       "      <td>0</td>\n",
       "      <td>f</td>\n",
       "    </tr>\n",
       "    <tr>\n",
       "      <th>3</th>\n",
       "      <td>1</td>\n",
       "      <td>a</td>\n",
       "    </tr>\n",
       "    <tr>\n",
       "      <th>4</th>\n",
       "      <td>1</td>\n",
       "      <td>f</td>\n",
       "    </tr>\n",
       "  </tbody>\n",
       "</table>\n",
       "</div>"
      ],
      "text/plain": [
       "   _c0 _c4\n",
       "0    0   b\n",
       "1    0   g\n",
       "2    0   f\n",
       "3    1   a\n",
       "4    1   f"
      ]
     },
     "execution_count": 74,
     "metadata": {},
     "output_type": "execute_result"
    }
   ],
   "source": [
    "tbl11.head()"
   ]
  },
  {
   "cell_type": "code",
   "execution_count": 75,
   "metadata": {},
   "outputs": [],
   "source": [
    "unique = tbl11['_c4'].unique()"
   ]
  },
  {
   "cell_type": "code",
   "execution_count": 76,
   "metadata": {},
   "outputs": [],
   "source": [
    "unique1 = sorted(unique)"
   ]
  },
  {
   "cell_type": "code",
   "execution_count": 80,
   "metadata": {},
   "outputs": [],
   "source": [
    "unique2 = [n.upper() for n in unique1]"
   ]
  },
  {
   "cell_type": "code",
   "execution_count": 81,
   "metadata": {},
   "outputs": [
    {
     "name": "stdout",
     "output_type": "stream",
     "text": [
      "['A', 'B', 'C', 'D', 'E', 'F', 'G']\n"
     ]
    }
   ],
   "source": [
    "print(unique2)"
   ]
  },
  {
   "cell_type": "code",
   "execution_count": 82,
   "metadata": {},
   "outputs": [
    {
     "name": "stdout",
     "output_type": "stream",
     "text": [
      "['A', 'B', 'C', 'D', 'E', 'F', 'G']\n"
     ]
    }
   ],
   "source": [
    "%run q04.py"
   ]
  },
  {
   "cell_type": "markdown",
   "metadata": {},
   "source": [
    "# Q05"
   ]
  },
  {
   "cell_type": "code",
   "execution_count": null,
   "metadata": {},
   "outputs": [],
   "source": [
    "## Imprima la suma de la _c2 por cada letra de la _c1 \n",
    "## de la tabla tbl0"
   ]
  },
  {
   "cell_type": "code",
   "execution_count": 83,
   "metadata": {},
   "outputs": [
    {
     "name": "stdout",
     "output_type": "stream",
     "text": [
      "_c1\n",
      "A    37\n",
      "B    36\n",
      "C    27\n",
      "D    23\n",
      "E    67\n",
      "Name: _c2, dtype: int64\n"
     ]
    }
   ],
   "source": [
    "import pandas\n",
    "tbl0 = pandas.read_csv('tbl0.tsv', sep = '\\t')\n",
    "q05 = tbl0.groupby('_c1').sum()['_c2']\n",
    "print(q05)"
   ]
  },
  {
   "cell_type": "code",
   "execution_count": 84,
   "metadata": {},
   "outputs": [
    {
     "name": "stdout",
     "output_type": "stream",
     "text": [
      "_c1\n",
      "A    37\n",
      "B    36\n",
      "C    27\n",
      "D    23\n",
      "E    67\n",
      "Name: _c2, dtype: int64\n"
     ]
    }
   ],
   "source": [
    "%run q05.py"
   ]
  },
  {
   "cell_type": "markdown",
   "metadata": {},
   "source": [
    "# Q06"
   ]
  },
  {
   "cell_type": "code",
   "execution_count": null,
   "metadata": {},
   "outputs": [],
   "source": [
    "##\n",
    "## Imprima la suma de la _c2 por cada letra de la _c1 \n",
    "## de la tabla tbl0\n",
    "## "
   ]
  },
  {
   "cell_type": "code",
   "execution_count": 85,
   "metadata": {},
   "outputs": [
    {
     "name": "stdout",
     "output_type": "stream",
     "text": [
      "_c1\n",
      "A    37\n",
      "B    36\n",
      "C    27\n",
      "D    23\n",
      "E    67\n",
      "Name: _c2, dtype: int64\n"
     ]
    }
   ],
   "source": [
    "import pandas\n",
    "tbl0 = pandas.read_csv('tbl0.tsv', sep = '\\t')\n",
    "q06 = tbl0.groupby('_c1').sum()['_c2']\n",
    "print(q06)"
   ]
  },
  {
   "cell_type": "code",
   "execution_count": 87,
   "metadata": {},
   "outputs": [
    {
     "name": "stdout",
     "output_type": "stream",
     "text": [
      "_c1\n",
      "A    37\n",
      "B    36\n",
      "C    27\n",
      "D    23\n",
      "E    67\n",
      "Name: _c2, dtype: int64\n"
     ]
    }
   ],
   "source": [
    "%run q06.py"
   ]
  },
  {
   "cell_type": "markdown",
   "metadata": {},
   "source": [
    "# Q07"
   ]
  },
  {
   "cell_type": "code",
   "execution_count": null,
   "metadata": {},
   "outputs": [],
   "source": [
    "##\n",
    "## Agregue una columna  con la suma de _c0 y _c2 a la tabla tbl0.tsv \n",
    "## "
   ]
  },
  {
   "cell_type": "code",
   "execution_count": 88,
   "metadata": {},
   "outputs": [],
   "source": [
    "import pandas\n",
    "tbl0 = pandas.read_csv('tbl0.tsv', sep = '\\t')"
   ]
  },
  {
   "cell_type": "code",
   "execution_count": 89,
   "metadata": {},
   "outputs": [],
   "source": [
    "tbl0aux = tbl0.copy()"
   ]
  },
  {
   "cell_type": "code",
   "execution_count": 91,
   "metadata": {},
   "outputs": [],
   "source": [
    "tbl0aux['suma'] = tbl0aux['_c0'] + tbl0aux['_c2']"
   ]
  },
  {
   "cell_type": "code",
   "execution_count": 92,
   "metadata": {},
   "outputs": [
    {
     "name": "stdout",
     "output_type": "stream",
     "text": [
      "    _c0 _c1  _c2         _c3  suma\n",
      "0     0   E    1  1999-02-28     1\n",
      "1     1   A    2  1999-10-28     3\n",
      "2     2   B    5  1998-05-02     7\n",
      "3     3   A    3  1999-08-28     6\n",
      "4     4   C    6  1999-12-01    10\n",
      "5     5   A    7  1998-07-28    12\n",
      "6     6   A    9  1997-02-28    15\n",
      "7     7   B    1  1999-05-10     8\n",
      "8     8   E    2  1997-04-12    10\n",
      "9     9   B    3  1999-11-23    12\n",
      "10   10   C    7  1998-01-17    17\n",
      "11   11   C    5  1998-12-28    16\n",
      "12   12   D    3  1999-10-15    15\n",
      "13   13   E    8  1998-11-01    21\n",
      "14   14   B    9  1999-08-12    23\n",
      "15   15   D    1  1997-12-01    16\n",
      "16   16   E    3  1997-07-28    19\n",
      "17   17   D    5  1998-08-12    22\n",
      "18   18   E    8  1999-08-24    26\n",
      "19   19   E    9  1998-01-23    28\n",
      "20   20   E    7  1999-06-22    27\n",
      "21   21   E    3  1999-04-24    24\n",
      "22   22   D    5  1999-06-25    27\n",
      "23   23   A    1  1999-08-25    24\n",
      "24   24   E    4  1997-07-26    28\n",
      "25   25   E    6  1997-09-24    31\n",
      "26   26   A    8  1997-09-28    34\n",
      "27   27   E    5  1999-06-22    32\n",
      "28   28   A    6  1999-07-29    34\n",
      "29   29   C    0  1999-08-22    29\n",
      "30   30   A    1  1998-04-26    31\n",
      "31   31   D    2  1998-02-24    33\n",
      "32   32   E    5  1999-03-24    37\n",
      "33   33   B    4  1998-03-23    37\n",
      "34   34   B    6  1999-04-21    40\n",
      "35   35   D    7  1999-02-29    42\n",
      "36   36   B    8  1997-05-21    44\n",
      "37   37   C    9  1997-07-22    46\n",
      "38   38   E    1  1999-09-28    39\n",
      "39   39   E    5  1998-01-26    44\n"
     ]
    }
   ],
   "source": [
    "print(tbl0aux)"
   ]
  },
  {
   "cell_type": "code",
   "execution_count": 93,
   "metadata": {},
   "outputs": [
    {
     "name": "stdout",
     "output_type": "stream",
     "text": [
      "    _c0 _c1  _c2         _c3  suma\n",
      "0     0   E    1  1999-02-28     1\n",
      "1     1   A    2  1999-10-28     3\n",
      "2     2   B    5  1998-05-02     7\n",
      "3     3   A    3  1999-08-28     6\n",
      "4     4   C    6  1999-12-01    10\n",
      "5     5   A    7  1998-07-28    12\n",
      "6     6   A    9  1997-02-28    15\n",
      "7     7   B    1  1999-05-10     8\n",
      "8     8   E    2  1997-04-12    10\n",
      "9     9   B    3  1999-11-23    12\n",
      "10   10   C    7  1998-01-17    17\n",
      "11   11   C    5  1998-12-28    16\n",
      "12   12   D    3  1999-10-15    15\n",
      "13   13   E    8  1998-11-01    21\n",
      "14   14   B    9  1999-08-12    23\n",
      "15   15   D    1  1997-12-01    16\n",
      "16   16   E    3  1997-07-28    19\n",
      "17   17   D    5  1998-08-12    22\n",
      "18   18   E    8  1999-08-24    26\n",
      "19   19   E    9  1998-01-23    28\n",
      "20   20   E    7  1999-06-22    27\n",
      "21   21   E    3  1999-04-24    24\n",
      "22   22   D    5  1999-06-25    27\n",
      "23   23   A    1  1999-08-25    24\n",
      "24   24   E    4  1997-07-26    28\n",
      "25   25   E    6  1997-09-24    31\n",
      "26   26   A    8  1997-09-28    34\n",
      "27   27   E    5  1999-06-22    32\n",
      "28   28   A    6  1999-07-29    34\n",
      "29   29   C    0  1999-08-22    29\n",
      "30   30   A    1  1998-04-26    31\n",
      "31   31   D    2  1998-02-24    33\n",
      "32   32   E    5  1999-03-24    37\n",
      "33   33   B    4  1998-03-23    37\n",
      "34   34   B    6  1999-04-21    40\n",
      "35   35   D    7  1999-02-29    42\n",
      "36   36   B    8  1997-05-21    44\n",
      "37   37   C    9  1997-07-22    46\n",
      "38   38   E    1  1999-09-28    39\n",
      "39   39   E    5  1998-01-26    44\n"
     ]
    }
   ],
   "source": [
    "%run q07.py"
   ]
  },
  {
   "cell_type": "markdown",
   "metadata": {},
   "source": [
    "# Q08"
   ]
  },
  {
   "cell_type": "code",
   "execution_count": 94,
   "metadata": {},
   "outputs": [],
   "source": [
    "##\n",
    "## Agregue el año como una columna a la tabla tbl0.tsv \n",
    "## "
   ]
  },
  {
   "cell_type": "code",
   "execution_count": 95,
   "metadata": {},
   "outputs": [],
   "source": [
    "import pandas\n",
    "tbl0 = pandas.read_csv('tbl0.tsv', sep = '\\t')\n",
    "tbl0aux = tbl0.copy()"
   ]
  },
  {
   "cell_type": "code",
   "execution_count": 97,
   "metadata": {},
   "outputs": [
    {
     "data": {
      "text/html": [
       "<div>\n",
       "<style scoped>\n",
       "    .dataframe tbody tr th:only-of-type {\n",
       "        vertical-align: middle;\n",
       "    }\n",
       "\n",
       "    .dataframe tbody tr th {\n",
       "        vertical-align: top;\n",
       "    }\n",
       "\n",
       "    .dataframe thead th {\n",
       "        text-align: right;\n",
       "    }\n",
       "</style>\n",
       "<table border=\"1\" class=\"dataframe\">\n",
       "  <thead>\n",
       "    <tr style=\"text-align: right;\">\n",
       "      <th></th>\n",
       "      <th>_c0</th>\n",
       "      <th>_c1</th>\n",
       "      <th>_c2</th>\n",
       "      <th>_c3</th>\n",
       "    </tr>\n",
       "  </thead>\n",
       "  <tbody>\n",
       "    <tr>\n",
       "      <th>0</th>\n",
       "      <td>0</td>\n",
       "      <td>E</td>\n",
       "      <td>1</td>\n",
       "      <td>1999-02-28</td>\n",
       "    </tr>\n",
       "    <tr>\n",
       "      <th>1</th>\n",
       "      <td>1</td>\n",
       "      <td>A</td>\n",
       "      <td>2</td>\n",
       "      <td>1999-10-28</td>\n",
       "    </tr>\n",
       "    <tr>\n",
       "      <th>2</th>\n",
       "      <td>2</td>\n",
       "      <td>B</td>\n",
       "      <td>5</td>\n",
       "      <td>1998-05-02</td>\n",
       "    </tr>\n",
       "    <tr>\n",
       "      <th>3</th>\n",
       "      <td>3</td>\n",
       "      <td>A</td>\n",
       "      <td>3</td>\n",
       "      <td>1999-08-28</td>\n",
       "    </tr>\n",
       "    <tr>\n",
       "      <th>4</th>\n",
       "      <td>4</td>\n",
       "      <td>C</td>\n",
       "      <td>6</td>\n",
       "      <td>1999-12-01</td>\n",
       "    </tr>\n",
       "  </tbody>\n",
       "</table>\n",
       "</div>"
      ],
      "text/plain": [
       "   _c0 _c1  _c2         _c3\n",
       "0    0   E    1  1999-02-28\n",
       "1    1   A    2  1999-10-28\n",
       "2    2   B    5  1998-05-02\n",
       "3    3   A    3  1999-08-28\n",
       "4    4   C    6  1999-12-01"
      ]
     },
     "execution_count": 97,
     "metadata": {},
     "output_type": "execute_result"
    }
   ],
   "source": [
    "tbl0aux.head()"
   ]
  },
  {
   "cell_type": "code",
   "execution_count": 122,
   "metadata": {},
   "outputs": [],
   "source": [
    "from datetime import datetime\n",
    "#tbl0aux[\"_c3\"] = pandas.to_datetime(tbl0aux[\"_c3\"])"
   ]
  },
  {
   "cell_type": "code",
   "execution_count": 119,
   "metadata": {},
   "outputs": [
    {
     "data": {
      "text/plain": [
       "pandas.core.series.Series"
      ]
     },
     "execution_count": 119,
     "metadata": {},
     "output_type": "execute_result"
    }
   ],
   "source": [
    "type(tbl0aux._c3)"
   ]
  },
  {
   "cell_type": "code",
   "execution_count": null,
   "metadata": {},
   "outputs": [],
   "source": []
  },
  {
   "cell_type": "code",
   "execution_count": null,
   "metadata": {},
   "outputs": [],
   "source": []
  },
  {
   "cell_type": "code",
   "execution_count": null,
   "metadata": {},
   "outputs": [],
   "source": []
  }
 ],
 "metadata": {
  "kernelspec": {
   "display_name": "Python 3",
   "language": "python",
   "name": "python3"
  },
  "language_info": {
   "codemirror_mode": {
    "name": "ipython",
    "version": 3
   },
   "file_extension": ".py",
   "mimetype": "text/x-python",
   "name": "python",
   "nbconvert_exporter": "python",
   "pygments_lexer": "ipython3",
   "version": "3.6.7"
  }
 },
 "nbformat": 4,
 "nbformat_minor": 2
}
